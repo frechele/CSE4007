{
 "cells": [
  {
   "cell_type": "code",
   "execution_count": 1,
   "id": "893e4beb",
   "metadata": {},
   "outputs": [],
   "source": [
    "import numpy as np\n",
    "import matplotlib.pyplot as plt\n",
    "\n",
    "%matplotlib inline"
   ]
  },
  {
   "cell_type": "code",
   "execution_count": 2,
   "id": "1511c2d3",
   "metadata": {},
   "outputs": [],
   "source": [
    "acc = np.array([\n",
    "    0.92, 0.93, 0.95, 0.85, 0.95, 0.97, 0.91, 0.93, 0.97\n",
    "])\n",
    "\n",
    "training = np.array([\n",
    "    0.28, 0.02, 0.04, 0.11, 0.03, 0.03, 0.01, 0.49, 2.31\n",
    "])\n",
    "\n",
    "inference = np.array([\n",
    "    257231., 72707., 20958., 11992., 49184., 54403., 767676., 603443., 249294.\n",
    "])"
   ]
  },
  {
   "cell_type": "code",
   "execution_count": 3,
   "id": "fdbfc03a",
   "metadata": {},
   "outputs": [],
   "source": [
    "names = [\n",
    "    'Logistic Regression',\n",
    "    'SVM (linear)',\n",
    "    'SVM (gaussian)',\n",
    "    'SVM (sigmoid)',\n",
    "    'SVM (poly deg2)',\n",
    "    'SVM (poly deg3)',\n",
    "    'FDA',\n",
    "    'MLP',\n",
    "    'CNN'\n",
    "]"
   ]
  },
  {
   "cell_type": "code",
   "execution_count": 12,
   "id": "625d593e",
   "metadata": {},
   "outputs": [
    {
     "data": {
      "text/plain": [
       "([0, 1, 2, 3, 4, 5, 6, 7, 8],\n",
       " [Text(0, 0, ''),\n",
       "  Text(0, 0, ''),\n",
       "  Text(0, 0, ''),\n",
       "  Text(0, 0, ''),\n",
       "  Text(0, 0, ''),\n",
       "  Text(0, 0, ''),\n",
       "  Text(0, 0, ''),\n",
       "  Text(0, 0, ''),\n",
       "  Text(0, 0, '')])"
      ]
     },
     "execution_count": 12,
     "metadata": {},
     "output_type": "execute_result"
    },
    {
     "data": {
      "image/png": "[encoded data removed]",
      "text/plain": [
       "<Figure size 576x288 with 1 Axes>"
      ]
     },
     "metadata": {
      "needs_background": "light"
     },
     "output_type": "display_data"
    }
   ],
   "source": [
    "plt.figure(figsize=(8, 4))\n",
    "ax = plt.subplot()\n",
    "ax.spines['top'].set_visible(False)\n",
    "ax.spines['right'].set_visible(False)\n",
    "\n",
    "plt.bar(names, (acc / training))\n",
    "plt.xticks(rotation=90)"
   ]
  },
  {
   "cell_type": "code",
   "execution_count": null,
   "id": "1acca658",
   "metadata": {},
   "outputs": [],
   "source": []
  }
 ],
 "metadata": {
  "kernelspec": {
   "display_name": "Python 3",
   "language": "python",
   "name": "python3"
  },
  "language_info": {
   "codemirror_mode": {
    "name": "ipython",
    "version": 3
   },
   "file_extension": ".py",
   "mimetype": "text/x-python",
   "name": "python",
   "nbconvert_exporter": "python",
   "pygments_lexer": "ipython3",
   "version": "3.8.8"
  }
 },
 "nbformat": 4,
 "nbformat_minor": 5
}
