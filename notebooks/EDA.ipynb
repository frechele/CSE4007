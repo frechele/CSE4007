{
 "cells": [
  {
   "cell_type": "code",
   "execution_count": 1,
   "id": "ea387873",
   "metadata": {},
   "outputs": [],
   "source": [
    "# Import datasets\n",
    "from sklearn import datasets\n",
    "import numpy as np"
   ]
  },
  {
   "cell_type": "code",
   "execution_count": 2,
   "id": "e6faa252",
   "metadata": {},
   "outputs": [],
   "source": [
    "import matplotlib.pyplot as plt\n",
    "import seaborn as sns\n",
    "%matplotlib inline"
   ]
  },
  {
   "cell_type": "code",
   "execution_count": 3,
   "id": "3e708bb8",
   "metadata": {},
   "outputs": [],
   "source": [
    "digits = datasets.load_digits()"
   ]
  },
  {
   "cell_type": "code",
   "execution_count": 4,
   "id": "5245c379",
   "metadata": {},
   "outputs": [
    {
     "data": {
      "text/plain": [
       "dict_keys(['data', 'target', 'frame', 'feature_names', 'target_names', 'images', 'DESCR'])"
      ]
     },
     "execution_count": 4,
     "metadata": {},
     "output_type": "execute_result"
    }
   ],
   "source": [
    "digits.keys()"
   ]
  },
  {
   "cell_type": "code",
   "execution_count": 5,
   "id": "ce9e8b4e",
   "metadata": {},
   "outputs": [
    {
     "data": {
      "text/plain": [
       "(1797, 64)"
      ]
     },
     "execution_count": 5,
     "metadata": {},
     "output_type": "execute_result"
    }
   ],
   "source": [
    "digits['data'].shape"
   ]
  },
  {
   "cell_type": "code",
   "execution_count": 6,
   "id": "1ca745d6",
   "metadata": {},
   "outputs": [
    {
     "data": {
      "text/plain": [
       "(1797, 8, 8)"
      ]
     },
     "execution_count": 6,
     "metadata": {},
     "output_type": "execute_result"
    }
   ],
   "source": [
    "digits['images'].shape"
   ]
  },
  {
   "cell_type": "code",
   "execution_count": 7,
   "id": "648b1396",
   "metadata": {},
   "outputs": [
    {
     "data": {
      "text/plain": [
       "(1797,)"
      ]
     },
     "execution_count": 7,
     "metadata": {},
     "output_type": "execute_result"
    }
   ],
   "source": [
    "digits['target'].shape"
   ]
  },
  {
   "cell_type": "code",
   "execution_count": 8,
   "id": "dda5c893",
   "metadata": {},
   "outputs": [],
   "source": [
    "import pandas as pd\n",
    "\n",
    "df = {\n",
    "    'data': [' '.join(list(map(str, d))) for d in digits['data']],\n",
    "    'target': digits['target']\n",
    "}\n",
    "df = pd.DataFrame(df)"
   ]
  },
  {
   "cell_type": "code",
   "execution_count": 9,
   "id": "1c95e3aa",
   "metadata": {},
   "outputs": [
    {
     "data": {
      "text/html": [
       "<div>\n",
       "<style scoped>\n",
       "    .dataframe tbody tr th:only-of-type {\n",
       "        vertical-align: middle;\n",
       "    }\n",
       "\n",
       "    .dataframe tbody tr th {\n",
       "        vertical-align: top;\n",
       "    }\n",
       "\n",
       "    .dataframe thead th {\n",
       "        text-align: right;\n",
       "    }\n",
       "</style>\n",
       "<table border=\"1\" class=\"dataframe\">\n",
       "  <thead>\n",
       "    <tr style=\"text-align: right;\">\n",
       "      <th></th>\n",
       "      <th>data</th>\n",
       "      <th>target</th>\n",
       "    </tr>\n",
       "  </thead>\n",
       "  <tbody>\n",
       "    <tr>\n",
       "      <th>0</th>\n",
       "      <td>0.0 0.0 5.0 13.0 9.0 1.0 0.0 0.0 0.0 0.0 13.0 ...</td>\n",
       "      <td>0</td>\n",
       "    </tr>\n",
       "    <tr>\n",
       "      <th>1</th>\n",
       "      <td>0.0 0.0 0.0 12.0 13.0 5.0 0.0 0.0 0.0 0.0 0.0 ...</td>\n",
       "      <td>1</td>\n",
       "    </tr>\n",
       "    <tr>\n",
       "      <th>2</th>\n",
       "      <td>0.0 0.0 0.0 4.0 15.0 12.0 0.0 0.0 0.0 0.0 3.0 ...</td>\n",
       "      <td>2</td>\n",
       "    </tr>\n",
       "    <tr>\n",
       "      <th>3</th>\n",
       "      <td>0.0 0.0 7.0 15.0 13.0 1.0 0.0 0.0 0.0 8.0 13.0...</td>\n",
       "      <td>3</td>\n",
       "    </tr>\n",
       "    <tr>\n",
       "      <th>4</th>\n",
       "      <td>0.0 0.0 0.0 1.0 11.0 0.0 0.0 0.0 0.0 0.0 0.0 7...</td>\n",
       "      <td>4</td>\n",
       "    </tr>\n",
       "  </tbody>\n",
       "</table>\n",
       "</div>"
      ],
      "text/plain": [
       "                                                data  target\n",
       "0  0.0 0.0 5.0 13.0 9.0 1.0 0.0 0.0 0.0 0.0 13.0 ...       0\n",
       "1  0.0 0.0 0.0 12.0 13.0 5.0 0.0 0.0 0.0 0.0 0.0 ...       1\n",
       "2  0.0 0.0 0.0 4.0 15.0 12.0 0.0 0.0 0.0 0.0 3.0 ...       2\n",
       "3  0.0 0.0 7.0 15.0 13.0 1.0 0.0 0.0 0.0 8.0 13.0...       3\n",
       "4  0.0 0.0 0.0 1.0 11.0 0.0 0.0 0.0 0.0 0.0 0.0 7...       4"
      ]
     },
     "execution_count": 9,
     "metadata": {},
     "output_type": "execute_result"
    }
   ],
   "source": [
    "df.head()"
   ]
  },
  {
   "cell_type": "code",
   "execution_count": 10,
   "id": "8f3a0e73",
   "metadata": {},
   "outputs": [
    {
     "name": "stdout",
     "output_type": "stream",
     "text": [
      "16.0\n"
     ]
    }
   ],
   "source": [
    "max_val = 0\n",
    "for i in range(len(df)):\n",
    "    max_val = max(max_val, digits['images'][i].max())\n",
    "print(max_val)"
   ]
  },
  {
   "cell_type": "code",
   "execution_count": 11,
   "id": "2d4e4fa8",
   "metadata": {},
   "outputs": [
    {
     "name": "stdout",
     "output_type": "stream",
     "text": [
      "179.7 174 183\n"
     ]
    }
   ],
   "source": [
    "num_classes = df['target'].value_counts()\n",
    "\n",
    "print(num_classes.mean(), num_classes.min(), num_classes.max())"
   ]
  },
  {
   "cell_type": "code",
   "execution_count": 12,
   "id": "50ee72cf",
   "metadata": {},
   "outputs": [
    {
     "data": {
      "text/plain": [
       "<BarContainer object of 10 artists>"
      ]
     },
     "execution_count": 12,
     "metadata": {},
     "output_type": "execute_result"
    },
    {
     "data": {
      "image/png": "[encoded data removed]",
      "text/plain": [
       "<Figure size 288x288 with 1 Axes>"
      ]
     },
     "metadata": {
      "needs_background": "light"
     },
     "output_type": "display_data"
    }
   ],
   "source": [
    "# plotting data distributions\n",
    "X = list(range(0, 10))\n",
    "Y = [num_classes[i] for i in X]\n",
    "\n",
    "plt.figure(figsize=(4, 4))\n",
    "ax = plt.subplot()\n",
    "ax.spines['top'].set_visible(False)\n",
    "ax.spines['right'].set_visible(False)\n",
    "\n",
    "ax.set_xticks(X)\n",
    "ax.set_xlabel('target class')\n",
    "ax.set_ylabel('the number of samples')\n",
    "ax.bar(X, Y, color='#1FB0E6')\n"
   ]
  },
  {
   "cell_type": "code",
   "execution_count": 13,
   "id": "71a37e70",
   "metadata": {
    "scrolled": true
   },
   "outputs": [
    {
     "name": "stdout",
     "output_type": "stream",
     "text": [
      "[[ 0.  0.  5. 13.  9.  1.  0.  0.]\n",
      " [ 0.  0. 13. 15. 10. 15.  5.  0.]\n",
      " [ 0.  3. 15.  2.  0. 11.  8.  0.]\n",
      " [ 0.  4. 12.  0.  0.  8.  8.  0.]\n",
      " [ 0.  5.  8.  0.  0.  9.  8.  0.]\n",
      " [ 0.  4. 11.  0.  1. 12.  7.  0.]\n",
      " [ 0.  2. 14.  5. 10. 12.  0.  0.]\n",
      " [ 0.  0.  6. 13. 10.  0.  0.  0.]]\n"
     ]
    }
   ],
   "source": [
    "print(digits.images[0])"
   ]
  },
  {
   "cell_type": "code",
   "execution_count": 14,
   "id": "c0b807ec",
   "metadata": {},
   "outputs": [
    {
     "name": "stdout",
     "output_type": "stream",
     "text": [
      "0.0 16.0\n"
     ]
    }
   ],
   "source": [
    "min_val = np.inf\n",
    "max_val = -np.inf\n",
    "\n",
    "for i in range(len(digits.images)):\n",
    "    min_val = min(min_val, digits.images[i].min())\n",
    "    max_val = max(max_val, digits.images[i].max())\n",
    "    \n",
    "print(min_val, max_val)"
   ]
  },
  {
   "cell_type": "code",
   "execution_count": 15,
   "id": "3da99313",
   "metadata": {},
   "outputs": [
    {
     "data": {
      "image/png": "[encoded data removed]",
      "text/plain": [
       "<Figure size 360x288 with 10 Axes>"
      ]
     },
     "metadata": {
      "needs_background": "light"
     },
     "output_type": "display_data"
    }
   ],
   "source": [
    "_, axes = plt.subplots(nrows=2,ncols=5, figsize=(5, 4))\n",
    "\n",
    "for j in range(2):\n",
    "    for i in range(5):\n",
    "        ax = axes[j, i]\n",
    "        \n",
    "        ax.set_axis_off()\n",
    "        ax.imshow(digits.images[i + j * 5], cmap=plt.cm.gray_r)\n",
    "        ax.set_title('label %i' % digits.target[i + j * 5], y=-0.5)"
   ]
  },
  {
   "cell_type": "code",
   "execution_count": 16,
   "id": "32844ef9",
   "metadata": {},
   "outputs": [
    {
     "data": {
      "text/plain": [
       "<AxesSubplot:>"
      ]
     },
     "execution_count": 16,
     "metadata": {},
     "output_type": "execute_result"
    },
    {
     "data": {
      "image/png": "[encoded data removed]",
      "text/plain": [
       "<Figure size 288x288 with 1 Axes>"
      ]
     },
     "metadata": {
      "needs_background": "light"
     },
     "output_type": "display_data"
    }
   ],
   "source": [
    "plt.figure(figsize=(4, 4))\n",
    "ax = plt.subplot()\n",
    "ax.set_axis_off()\n",
    "sns.heatmap((digits.images).mean(axis=0), cbar=False)"
   ]
  },
  {
   "cell_type": "code",
   "execution_count": 17,
   "id": "3c806d53",
   "metadata": {
    "scrolled": true
   },
   "outputs": [],
   "source": [
    "data_per_cls = { k: [] for k in range(10) }\n",
    "for img, tgt in zip(digits.images, digits.target):\n",
    "    data_per_cls[tgt].append(img)"
   ]
  },
  {
   "cell_type": "code",
   "execution_count": 18,
   "id": "a284da9f",
   "metadata": {},
   "outputs": [],
   "source": [
    "val_data_per_cls = 20\n",
    "\n",
    "val_data = {\n",
    "    'images': [],\n",
    "    'targets': []\n",
    "}\n",
    "\n",
    "train_data = {\n",
    "    'images': [],\n",
    "    'targets': []\n",
    "}\n",
    "\n",
    "for cls in range(10):\n",
    "    val_data['images'] += data_per_cls[cls][:val_data_per_cls]\n",
    "    val_data['targets'] += [cls] * val_data_per_cls\n",
    "    train_data['images'] += data_per_cls[cls][val_data_per_cls:]\n",
    "    train_data['targets'] += [cls] * (len(data_per_cls[cls]) - val_data_per_cls)\n",
    "    \n",
    "val_data['images'] = np.array(val_data['images'])\n",
    "val_data['targets'] = np.array(val_data['targets'])\n",
    "train_data['images'] = np.array(train_data['images'])\n",
    "train_data['targets'] = np.array(train_data['targets'])"
   ]
  },
  {
   "cell_type": "code",
   "execution_count": 19,
   "id": "b4dab221",
   "metadata": {},
   "outputs": [],
   "source": [
    "import pickle\n",
    "\n",
    "with open('train.pkl', 'wb') as f:\n",
    "    pickle.dump(train_data, f)\n",
    "    \n",
    "with open('validation.pkl', 'wb') as f:\n",
    "    pickle.dump(val_data, f)"
   ]
  },
  {
   "cell_type": "code",
   "execution_count": null,
   "id": "10593a7a",
   "metadata": {},
   "outputs": [],
   "source": []
  }
 ],
 "metadata": {
  "kernelspec": {
   "display_name": "Python 3",
   "language": "python",
   "name": "python3"
  },
  "language_info": {
   "codemirror_mode": {
    "name": "ipython",
    "version": 3
   },
   "file_extension": ".py",
   "mimetype": "text/x-python",
   "name": "python",
   "nbconvert_exporter": "python",
   "pygments_lexer": "ipython3",
   "version": "3.8.8"
  }
 },
 "nbformat": 4,
 "nbformat_minor": 5
}
