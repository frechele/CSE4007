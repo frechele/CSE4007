{
 "cells": [
  {
   "cell_type": "code",
   "execution_count": 1,
   "id": "a4f113dd",
   "metadata": {},
   "outputs": [],
   "source": [
    "import numpy as np\n",
    "import matplotlib.pyplot as plt\n",
    "import seaborn as sns\n",
    "import pickle\n",
    "\n",
    "%matplotlib inline"
   ]
  },
  {
   "cell_type": "code",
   "execution_count": 2,
   "id": "22ff18a7",
   "metadata": {},
   "outputs": [],
   "source": [
    "with open('../data/validation.pkl', 'rb') as f:\n",
    "    val_data = pickle.load(f)\n",
    "    x_val, y_val = val_data['images'], val_data['targets']"
   ]
  },
  {
   "cell_type": "code",
   "execution_count": 3,
   "id": "f0aa578d",
   "metadata": {},
   "outputs": [],
   "source": [
    "left_x_val = np.zeros(x_val.shape)\n",
    "left_x_val[:, :, :-1] = x_val[:, :, 1:]\n",
    "\n",
    "right_x_val = np.zeros(x_val.shape)\n",
    "right_x_val[:, :, 1:] = x_val[:, :, :-1]"
   ]
  },
  {
   "cell_type": "code",
   "execution_count": 4,
   "id": "cace7203",
   "metadata": {},
   "outputs": [
    {
     "data": {
      "text/plain": [
       "<AxesSubplot:>"
      ]
     },
     "execution_count": 4,
     "metadata": {},
     "output_type": "execute_result"
    },
    {
     "data": {
      "image/png": "[encoded data removed]",
      "text/plain": [
       "<Figure size 288x288 with 1 Axes>"
      ]
     },
     "metadata": {
      "needs_background": "light"
     },
     "output_type": "display_data"
    }
   ],
   "source": [
    "plt.figure(figsize=(4, 4))\n",
    "ax = plt.subplot()\n",
    "ax.set_axis_off()\n",
    "sns.heatmap(np.mean(left_x_val, axis=0), cbar=False)"
   ]
  },
  {
   "cell_type": "code",
   "execution_count": 5,
   "id": "465345ad",
   "metadata": {},
   "outputs": [
    {
     "data": {
      "text/plain": [
       "<AxesSubplot:>"
      ]
     },
     "execution_count": 5,
     "metadata": {},
     "output_type": "execute_result"
    },
    {
     "data": {
      "image/png": "[encoded data removed]",
      "text/plain": [
       "<Figure size 288x288 with 1 Axes>"
      ]
     },
     "metadata": {
      "needs_background": "light"
     },
     "output_type": "display_data"
    }
   ],
   "source": [
    "plt.figure(figsize=(4, 4))\n",
    "ax = plt.subplot()\n",
    "ax.set_axis_off()\n",
    "sns.heatmap(np.mean(right_x_val, axis=0), cbar=False)"
   ]
  },
  {
   "cell_type": "code",
   "execution_count": 6,
   "id": "24e5b97f",
   "metadata": {},
   "outputs": [
    {
     "data": {
      "text/plain": [
       "<matplotlib.lines.Line2D at 0x7fcc7f6f7cd0>"
      ]
     },
     "execution_count": 6,
     "metadata": {},
     "output_type": "execute_result"
    },
    {
     "data": {
      "image/png": "[encoded data removed]",
      "text/plain": [
       "<Figure size 576x288 with 1 Axes>"
      ]
     },
     "metadata": {
      "needs_background": "light"
     },
     "output_type": "display_data"
    }
   ],
   "source": [
    "names = [\n",
    "    'CNN',\n",
    "    'SVM (poly deg3)',\n",
    "    'SVM (gaussian)',\n",
    "    'SVM (poly deg2)',\n",
    "    'SVM (linear)',\n",
    "    'MLP',\n",
    "    'Logistic Regression',\n",
    "    'FDA',\n",
    "    'SVM (sigmoid)'\n",
    "]\n",
    "\n",
    "scores = [\n",
    "    0.73,\n",
    "    0.55,\n",
    "    0.54,\n",
    "    0.51,\n",
    "    0.43,\n",
    "    0.42,\n",
    "    0.41,\n",
    "    0.28,\n",
    "    0.27,\n",
    "]\n",
    "\n",
    "plt.figure(figsize=(8, 4))\n",
    "ax = plt.subplot()\n",
    "ax.spines['top'].set_visible(False)\n",
    "ax.spines['right'].set_visible(False)\n",
    "plt.ylabel('Accuracy')\n",
    "plt.xticks(rotation=90)\n",
    "\n",
    "colors = (['#1FB0E6'] * 8) + ['red']\n",
    "plt.bar(list(reversed(names)), list(reversed(scores)), color=colors)\n",
    "plt.axhline(0.5)"
   ]
  },
  {
   "cell_type": "code",
   "execution_count": null,
   "id": "1fb653a1",
   "metadata": {},
   "outputs": [],
   "source": []
  }
 ],
 "metadata": {
  "kernelspec": {
   "display_name": "Python 3",
   "language": "python",
   "name": "python3"
  },
  "language_info": {
   "codemirror_mode": {
    "name": "ipython",
    "version": 3
   },
   "file_extension": ".py",
   "mimetype": "text/x-python",
   "name": "python",
   "nbconvert_exporter": "python",
   "pygments_lexer": "ipython3",
   "version": "3.8.8"
  }
 },
 "nbformat": 4,
 "nbformat_minor": 5
}
